{
 "cells": [
  {
   "cell_type": "markdown",
   "metadata": {},
   "source": [
    "## python 3.6 環境 "
   ]
  },
  {
   "cell_type": "code",
   "execution_count": 1,
   "metadata": {},
   "outputs": [],
   "source": [
    "#### pip install PyQt5==5.13.0\n",
    "#### pip install PyQt5-tools==5.13.0.1.5"
   ]
  },
  {
   "cell_type": "markdown",
   "metadata": {},
   "source": [
    "### 測試是否安裝成功"
   ]
  },
  {
   "cell_type": "code",
   "execution_count": null,
   "metadata": {},
   "outputs": [],
   "source": [
    "import sys\n",
    "from PyQt5 import QtWidgets , QtCore\n",
    "\n",
    "app = QtWidgets.QApplication(sys.argv)\n",
    "widget = QtWidgets.QWidget()\n",
    "widget.resize(360,360)\n",
    "widget.show()\n",
    "sys.exit(app.exec_())"
   ]
  },
  {
   "cell_type": "markdown",
   "metadata": {},
   "source": [
    "### 其他常用模組"
   ]
  },
  {
   "cell_type": "code",
   "execution_count": 1,
   "metadata": {},
   "outputs": [],
   "source": [
    "#### pip install matplotlib"
   ]
  },
  {
   "cell_type": "markdown",
   "metadata": {},
   "source": [
    "### Eric 6"
   ]
  },
  {
   "cell_type": "code",
   "execution_count": null,
   "metadata": {},
   "outputs": [],
   "source": [
    "# STEP1 : 下載 https://sourceforge.net/projects/eric-ide/files/eric6/stable/ (Eric官網 http://eric-ide.python-projects.org/) \n",
    "# STEP2 : pip install QScintilla \n",
    "# STEP3 : cd 下載解壓縮後的資料夾 python install.py\n",
    "\n",
    "# STEP4 : 開啟 cd path\\eric6\\eric6-20.4\\eric\\eric6    python eric6.pyw"
   ]
  },
  {
   "cell_type": "code",
   "execution_count": null,
   "metadata": {},
   "outputs": [],
   "source": [
    "#### pip install jedi"
   ]
  },
  {
   "cell_type": "markdown",
   "metadata": {},
   "source": [
    "#### Eric 6 內部調整"
   ]
  },
  {
   "cell_type": "code",
   "execution_count": null,
   "metadata": {},
   "outputs": [],
   "source": [
    "## setting --> Preferences\n",
    "\n",
    "## STEP1 : [Qt] Tools Directory 指定 pyqt5-tools安裝包路徑\n",
    "## STEP2 : [Editor] --> [Autocompletion] --> [QScintilla] 勾選 Show Single & Use fill-up characters \n",
    "## STEP3 : [Editor] --> [Autocompletion] 勾選  Automatic Completion Enabled\n",
    "## STEP4 : [Editor] --> [API] Language選擇 Python3 然後按 Add from installed APIs 按鈕 匯入eric6.api 再按一下 [Compile APIs] 然後OK\n",
    "## STEP5 : [Project] --> [Multiproject] workspace選擇一個資料夾"
   ]
  },
  {
   "cell_type": "code",
   "execution_count": null,
   "metadata": {},
   "outputs": [],
   "source": [
    "## Extra --> Plugins --> Plugin Repository 安裝jedi外掛程式"
   ]
  },
  {
   "cell_type": "code",
   "execution_count": null,
   "metadata": {},
   "outputs": [],
   "source": []
  },
  {
   "cell_type": "markdown",
   "metadata": {},
   "source": [
    "## Eric 6 基本使用"
   ]
  },
  {
   "cell_type": "markdown",
   "metadata": {},
   "source": [
    "#### STEP1 : 建立PyQt5專案 [Project] --> [New]\n",
    "#### STEP2 : Project Name(專案名稱) 、 Project Type(PyQt5 GUI) 、 Project Directory(專案目錄)\n",
    "#### STEP3 : 彈出一個視窗 詢問是否要加入既有檔案到專案中 [No]\n",
    "#### STEP4 : 新建一個Python檔案 [File] --> [New]\n",
    "#### STEP5 : Save as\n",
    "#### STEP6 : [start] --> [Run Script]"
   ]
  },
  {
   "cell_type": "code",
   "execution_count": null,
   "metadata": {},
   "outputs": [],
   "source": [
    "# 參考 : https://github.com/cxinping/PyQt5\n",
    "\n",
    "'''\n",
    "import sys\n",
    "from PyQt5.QtWidgets import QPushButton ,  QApplication ,  QWidget\n",
    "\n",
    "class WinForm( QWidget):\n",
    "    def __init__(self,  parent = None) :\n",
    "        super (WinForm, self).__init__(parent)\n",
    "        self.setGeometry(300,  300,  350,  350)\n",
    "        self.setWindowTitle(' 點擊按鈕關閉視窗')\n",
    "        quit = QPushButton('Close',  self)\n",
    "        quit.setGeometry(10,  10,  60,  35)\n",
    "        quit.setStyleSheet(\"background-color : red\")\n",
    "        quit.clicked.connect(self.close)\n",
    "        \n",
    "if __name__ ==\"__main__\" :\n",
    "    app = QApplication(sys.argv)\n",
    "    win = WinForm()\n",
    "    win.show()\n",
    "    sys.exit(app.exec_())\n",
    "'''"
   ]
  }
 ],
 "metadata": {
  "kernelspec": {
   "display_name": "Python 3",
   "language": "python",
   "name": "python3"
  },
  "language_info": {
   "codemirror_mode": {
    "name": "ipython",
    "version": 3
   },
   "file_extension": ".py",
   "mimetype": "text/x-python",
   "name": "python",
   "nbconvert_exporter": "python",
   "pygments_lexer": "ipython3",
   "version": "3.7.3"
  }
 },
 "nbformat": 4,
 "nbformat_minor": 2
}
